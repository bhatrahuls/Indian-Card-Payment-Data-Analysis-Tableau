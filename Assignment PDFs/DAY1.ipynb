{
 "cells": [
  {
   "cell_type": "code",
   "execution_count": 1,
   "id": "de5b5719",
   "metadata": {},
   "outputs": [
    {
     "data": {
      "text/html": [
       "<div>\n",
       "<style scoped>\n",
       "    .dataframe tbody tr th:only-of-type {\n",
       "        vertical-align: middle;\n",
       "    }\n",
       "\n",
       "    .dataframe tbody tr th {\n",
       "        vertical-align: top;\n",
       "    }\n",
       "\n",
       "    .dataframe thead th {\n",
       "        text-align: right;\n",
       "    }\n",
       "</style>\n",
       "<table border=\"1\" class=\"dataframe\">\n",
       "  <thead>\n",
       "    <tr style=\"text-align: right;\">\n",
       "      <th></th>\n",
       "      <th>1980</th>\n",
       "      <th>Jan</th>\n",
       "      <th>22.13</th>\n",
       "      <th>23.5</th>\n",
       "      <th>5.87</th>\n",
       "      <th>mandya.xls</th>\n",
       "      <th>0.27</th>\n",
       "    </tr>\n",
       "  </thead>\n",
       "  <tbody>\n",
       "    <tr>\n",
       "      <th>0</th>\n",
       "      <td>1980</td>\n",
       "      <td>Feb</td>\n",
       "      <td>24.16</td>\n",
       "      <td>22.39</td>\n",
       "      <td>6.52</td>\n",
       "      <td>mandya.xls</td>\n",
       "      <td>2.69</td>\n",
       "    </tr>\n",
       "    <tr>\n",
       "      <th>1</th>\n",
       "      <td>1980</td>\n",
       "      <td>Mar</td>\n",
       "      <td>26.04</td>\n",
       "      <td>24.43</td>\n",
       "      <td>7.21</td>\n",
       "      <td>mandya.xls</td>\n",
       "      <td>30.48</td>\n",
       "    </tr>\n",
       "    <tr>\n",
       "      <th>2</th>\n",
       "      <td>1980</td>\n",
       "      <td>Apr</td>\n",
       "      <td>27.03</td>\n",
       "      <td>36.90</td>\n",
       "      <td>7.26</td>\n",
       "      <td>mandya.xls</td>\n",
       "      <td>12.83</td>\n",
       "    </tr>\n",
       "    <tr>\n",
       "      <th>3</th>\n",
       "      <td>1980</td>\n",
       "      <td>May</td>\n",
       "      <td>26.60</td>\n",
       "      <td>45.12</td>\n",
       "      <td>6.88</td>\n",
       "      <td>mandya.xls</td>\n",
       "      <td>116.82</td>\n",
       "    </tr>\n",
       "    <tr>\n",
       "      <th>4</th>\n",
       "      <td>1980</td>\n",
       "      <td>Jun</td>\n",
       "      <td>23.09</td>\n",
       "      <td>75.47</td>\n",
       "      <td>5.29</td>\n",
       "      <td>mandya.xls</td>\n",
       "      <td>416.76</td>\n",
       "    </tr>\n",
       "  </tbody>\n",
       "</table>\n",
       "</div>"
      ],
      "text/plain": [
       "   1980  Jan  22.13   23.5  5.87  mandya.xls    0.27\n",
       "0  1980  Feb  24.16  22.39  6.52  mandya.xls    2.69\n",
       "1  1980  Mar  26.04  24.43  7.21  mandya.xls   30.48\n",
       "2  1980  Apr  27.03  36.90  7.26  mandya.xls   12.83\n",
       "3  1980  May  26.60  45.12  6.88  mandya.xls  116.82\n",
       "4  1980  Jun  23.09  75.47  5.29  mandya.xls  416.76"
      ]
     },
     "execution_count": 1,
     "metadata": {},
     "output_type": "execute_result"
    }
   ],
   "source": [
    "import pandas as pd\n",
    "df=pd.read_csv(\"C:/Users/Rahul Bhat/Downloads/gen.csv\")\n",
    "df.head()"
   ]
  },
  {
   "cell_type": "code",
   "execution_count": 2,
   "id": "5fbca1e8",
   "metadata": {},
   "outputs": [
    {
     "name": "stdout",
     "output_type": "stream",
     "text": [
      "False\n",
      "False\n",
      "False\n",
      "False\n",
      "False\n",
      "False\n",
      "False\n"
     ]
    }
   ],
   "source": [
    "for i in df:\n",
    "    print(df[i].is_monotonic)"
   ]
  },
  {
   "cell_type": "code",
   "execution_count": 3,
   "id": "0359867d",
   "metadata": {},
   "outputs": [
    {
     "data": {
      "text/html": [
       "<div>\n",
       "<style scoped>\n",
       "    .dataframe tbody tr th:only-of-type {\n",
       "        vertical-align: middle;\n",
       "    }\n",
       "\n",
       "    .dataframe tbody tr th {\n",
       "        vertical-align: top;\n",
       "    }\n",
       "\n",
       "    .dataframe thead th {\n",
       "        text-align: right;\n",
       "    }\n",
       "</style>\n",
       "<table border=\"1\" class=\"dataframe\">\n",
       "  <thead>\n",
       "    <tr style=\"text-align: right;\">\n",
       "      <th></th>\n",
       "      <th>1980</th>\n",
       "      <th>22.13</th>\n",
       "      <th>23.5</th>\n",
       "      <th>5.87</th>\n",
       "      <th>0.27</th>\n",
       "    </tr>\n",
       "  </thead>\n",
       "  <tbody>\n",
       "    <tr>\n",
       "      <th>1980</th>\n",
       "      <td>1.000000</td>\n",
       "      <td>-0.006252</td>\n",
       "      <td>0.012344</td>\n",
       "      <td>0.008500</td>\n",
       "      <td>0.012212</td>\n",
       "    </tr>\n",
       "    <tr>\n",
       "      <th>22.13</th>\n",
       "      <td>-0.006252</td>\n",
       "      <td>1.000000</td>\n",
       "      <td>-0.266426</td>\n",
       "      <td>0.646530</td>\n",
       "      <td>-0.141930</td>\n",
       "    </tr>\n",
       "    <tr>\n",
       "      <th>23.5</th>\n",
       "      <td>0.012344</td>\n",
       "      <td>-0.266426</td>\n",
       "      <td>1.000000</td>\n",
       "      <td>-0.675761</td>\n",
       "      <td>0.687188</td>\n",
       "    </tr>\n",
       "    <tr>\n",
       "      <th>5.87</th>\n",
       "      <td>0.008500</td>\n",
       "      <td>0.646530</td>\n",
       "      <td>-0.675761</td>\n",
       "      <td>1.000000</td>\n",
       "      <td>-0.526892</td>\n",
       "    </tr>\n",
       "    <tr>\n",
       "      <th>0.27</th>\n",
       "      <td>0.012212</td>\n",
       "      <td>-0.141930</td>\n",
       "      <td>0.687188</td>\n",
       "      <td>-0.526892</td>\n",
       "      <td>1.000000</td>\n",
       "    </tr>\n",
       "  </tbody>\n",
       "</table>\n",
       "</div>"
      ],
      "text/plain": [
       "           1980     22.13      23.5      5.87      0.27\n",
       "1980   1.000000 -0.006252  0.012344  0.008500  0.012212\n",
       "22.13 -0.006252  1.000000 -0.266426  0.646530 -0.141930\n",
       "23.5   0.012344 -0.266426  1.000000 -0.675761  0.687188\n",
       "5.87   0.008500  0.646530 -0.675761  1.000000 -0.526892\n",
       "0.27   0.012212 -0.141930  0.687188 -0.526892  1.000000"
      ]
     },
     "execution_count": 3,
     "metadata": {},
     "output_type": "execute_result"
    }
   ],
   "source": [
    "df.corr(method='pearson')"
   ]
  },
  {
   "cell_type": "code",
   "execution_count": null,
   "id": "baa71d7e",
   "metadata": {},
   "outputs": [],
   "source": []
  }
 ],
 "metadata": {
  "kernelspec": {
   "display_name": "Python 3 (ipykernel)",
   "language": "python",
   "name": "python3"
  },
  "language_info": {
   "codemirror_mode": {
    "name": "ipython",
    "version": 3
   },
   "file_extension": ".py",
   "mimetype": "text/x-python",
   "name": "python",
   "nbconvert_exporter": "python",
   "pygments_lexer": "ipython3",
   "version": "3.9.13"
  }
 },
 "nbformat": 4,
 "nbformat_minor": 5
}
